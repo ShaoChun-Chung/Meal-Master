{
 "cells": [
  {
   "cell_type": "code",
   "execution_count": 1,
   "metadata": {},
   "outputs": [],
   "source": [
    "import requests\n",
    "import json"
   ]
  },
  {
   "attachments": {},
   "cell_type": "markdown",
   "metadata": {},
   "source": [
    "# Extract restaurant data from \"the-fork-the-spoon\" api"
   ]
  },
  {
   "cell_type": "code",
   "execution_count": 27,
   "metadata": {},
   "outputs": [],
   "source": [
    "with open('api_cred.json','r') as j:\n",
    "    cred = json.load(j)"
   ]
  },
  {
   "cell_type": "code",
   "execution_count": 66,
   "metadata": {},
   "outputs": [],
   "source": [
    "url = \"https://the-fork-the-spoon.p.rapidapi.com/restaurants/v2/list\"\n",
    "\n",
    "querystring = {\"queryPlaceValueCityId\":\"348156\", \"pageNumber\":1} # change pageNumber to get different rests\n",
    "\n",
    "headers = {\n",
    "\t\"X-RapidAPI-Key\": cred[\"X-RapidAPI-Key\"],\n",
    "\t\"X-RapidAPI-Host\": cred[\"X-RapidAPI-Host\"]\n",
    "}\n",
    "\n",
    "response = requests.request(\"GET\", url, headers=headers, params=querystring)"
   ]
  },
  {
   "cell_type": "code",
   "execution_count": null,
   "metadata": {},
   "outputs": [],
   "source": []
  },
  {
   "cell_type": "code",
   "execution_count": 29,
   "metadata": {},
   "outputs": [],
   "source": [
    "CITY2ID = {'Milan': 348156, 'Rome': 461789, 'Paris': 415144}"
   ]
  },
  {
   "attachments": {},
   "cell_type": "markdown",
   "metadata": {},
   "source": [
    "## MongoDB"
   ]
  },
  {
   "cell_type": "code",
   "execution_count": 138,
   "metadata": {},
   "outputs": [],
   "source": [
    "from pymongo import MongoClient\n",
    "client = MongoClient('localhost', 27017) ## or MongoClient(\"localhost:27\")\n",
    "db = client.mealMaster"
   ]
  },
  {
   "cell_type": "code",
   "execution_count": 139,
   "metadata": {},
   "outputs": [],
   "source": [
    "collection = db.restaurants"
   ]
  },
  {
   "attachments": {},
   "cell_type": "markdown",
   "metadata": {},
   "source": [
    "# insert into \"restaurants\" collection"
   ]
  },
  {
   "cell_type": "code",
   "execution_count": 134,
   "metadata": {},
   "outputs": [
    {
     "name": "stdout",
     "output_type": "stream",
     "text": [
      "2\n"
     ]
    }
   ],
   "source": [
    "url = \"https://the-fork-the-spoon.p.rapidapi.com/restaurants/v2/list\"\n",
    "headers = {\n",
    "\t\"X-RapidAPI-Key\": cred[\"X-RapidAPI-Key\"],\n",
    "\t\"X-RapidAPI-Host\": cred[\"X-RapidAPI-Host\"]\n",
    "}\n",
    "\n",
    "nextPage = 1\n",
    "collection = db.restaurants\n",
    "\n",
    "while nextPage <= 1: # only extract 50 pages for now (= 50*10 = 500 restaurants per city)\n",
    "\tquerystring = {\"queryPlaceValueCityId\":\"415144\", \"pageNumber\": nextPage} # change pageNumber to get different rests\n",
    "\tresponse = requests.request(\"GET\", url, headers=headers, params=querystring).json()\n",
    "\tcollection.insert_one(response)\n",
    "\tnextPage = response['meta']['page']['next']\n",
    "\tprint(nextPage)"
   ]
  },
  {
   "cell_type": "code",
   "execution_count": 135,
   "metadata": {},
   "outputs": [
    {
     "data": {
      "text/plain": [
       "1"
      ]
     },
     "execution_count": 135,
     "metadata": {},
     "output_type": "execute_result"
    }
   ],
   "source": [
    "\n",
    "collection.count_documents({})"
   ]
  },
  {
   "attachments": {},
   "cell_type": "markdown",
   "metadata": {},
   "source": [
    "# Backup the extracted data"
   ]
  },
  {
   "cell_type": "code",
   "execution_count": 136,
   "metadata": {},
   "outputs": [],
   "source": [
    "from util import *\n",
    "db_path = \"C:\\\\Users\\\\micha\\\\work\\\\Meal-Master\\\\data\"\n",
    "collections = ['restaurants']\n",
    "dump_mongodb(collections, client, 'mealMaster', 'C:\\\\Users\\\\micha\\\\work\\\\Meal-Master\\\\data')"
   ]
  },
  {
   "attachments": {},
   "cell_type": "markdown",
   "metadata": {},
   "source": [
    "# Restore database"
   ]
  },
  {
   "cell_type": "code",
   "execution_count": 140,
   "metadata": {},
   "outputs": [
    {
     "data": {
      "text/plain": [
       "0"
      ]
     },
     "execution_count": 140,
     "metadata": {},
     "output_type": "execute_result"
    }
   ],
   "source": [
    "collection.count_documents({})"
   ]
  },
  {
   "cell_type": "code",
   "execution_count": 141,
   "metadata": {},
   "outputs": [],
   "source": [
    "restore_mongodb('C:\\\\Users\\\\micha\\\\work\\\\Meal-Master\\\\data', client, 'mealMaster')"
   ]
  },
  {
   "cell_type": "code",
   "execution_count": 142,
   "metadata": {},
   "outputs": [
    {
     "data": {
      "text/plain": [
       "1"
      ]
     },
     "execution_count": 142,
     "metadata": {},
     "output_type": "execute_result"
    }
   ],
   "source": [
    "collection.count_documents({})"
   ]
  },
  {
   "cell_type": "code",
   "execution_count": null,
   "metadata": {},
   "outputs": [],
   "source": []
  }
 ],
 "metadata": {
  "kernelspec": {
   "display_name": "Python 3",
   "language": "python",
   "name": "python3"
  },
  "language_info": {
   "codemirror_mode": {
    "name": "ipython",
    "version": 3
   },
   "file_extension": ".py",
   "mimetype": "text/x-python",
   "name": "python",
   "nbconvert_exporter": "python",
   "pygments_lexer": "ipython3",
   "version": "3.10.11"
  },
  "orig_nbformat": 4
 },
 "nbformat": 4,
 "nbformat_minor": 2
}
